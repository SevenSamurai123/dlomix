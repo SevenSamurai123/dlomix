{
 "cells": [
  {
   "cell_type": "markdown",
   "metadata": {},
   "source": [
    "# Example notebook to use Clever Copy Approach and Chaining of PTM Models"
   ]
  },
  {
   "cell_type": "markdown",
   "metadata": {},
   "source": [
    "# Data preprocessing"
   ]
  },
  {
   "cell_type": "code",
   "execution_count": null,
   "metadata": {},
   "outputs": [],
   "source": [
    "from data_preprocessing import DataPreprocessing"
   ]
  },
  {
   "cell_type": "code",
   "execution_count": null,
   "metadata": {},
   "outputs": [],
   "source": [
    "data_preprocessing = DataPreprocessing(\n",
    "    file_path=\"/cmnfs/data/proteomics/Prosit_PTMs/TUM_mod_citrullination_2.parquet\",\n",
    "    save_path=\"example/input_files\",\n",
    "    train_ratio=0.8,\n",
    "    modification=\"R[UNIMOD:7]\",\n",
    "    fragmentation=\"HCD\",\n",
    "    mass_analyzer=\"FTMS\",\n",
    "    create_smaller_trainset=[5,10]\n",
    ")"
   ]
  },
  {
   "cell_type": "markdown",
   "metadata": {},
   "source": [
    "## Clever Copy Approach"
   ]
  },
  {
   "cell_type": "markdown",
   "metadata": {},
   "source": [
    "### Before Fine-tuning"
   ]
  },
  {
   "cell_type": "code",
   "execution_count": null,
   "metadata": {},
   "outputs": [],
   "source": [
    "from CleverCopyPredictorBeforeFinetuning import CleverCopyPredictorBeforeFineTuning"
   ]
  },
  {
   "cell_type": "code",
   "execution_count": null,
   "metadata": {},
   "outputs": [],
   "source": [
    "CC_predictor = CleverCopyPredictorBeforeFineTuning(\n",
    "    modification=\"cR\",\n",
    "    test_path='example/input_files/test_HCD_cR_max.parquet',\n",
    "    val_path='example/input_files/val_HCD_cR_max.parquet',\n",
    "    case='normal',\n",
    "    path_weights='example/base_prosit.weights.h5',\n",
    "    save_path='example',\n",
    ")"
   ]
  },
  {
   "cell_type": "code",
   "execution_count": null,
   "metadata": {},
   "outputs": [],
   "source": [
    "CC_predictor.prediction()"
   ]
  },
  {
   "cell_type": "code",
   "execution_count": null,
   "metadata": {},
   "outputs": [],
   "source": [
    "CC_predictor.cleanup_weights()"
   ]
  },
  {
   "cell_type": "code",
   "execution_count": null,
   "metadata": {},
   "outputs": [],
   "source": [
    "CC_predictor.get_AA_SA_dict()"
   ]
  },
  {
   "cell_type": "code",
   "execution_count": null,
   "metadata": {},
   "outputs": [],
   "source": [
    "CC_predictor.get_SA_of_AA(\"P\")"
   ]
  },
  {
   "cell_type": "code",
   "execution_count": null,
   "metadata": {},
   "outputs": [],
   "source": [
    "CC_predictor.get_best_AA()"
   ]
  },
  {
   "cell_type": "code",
   "execution_count": null,
   "metadata": {},
   "outputs": [],
   "source": [
    "CC_predictor.get_weights_path_of_best_AA()"
   ]
  },
  {
   "cell_type": "markdown",
   "metadata": {},
   "source": [
    "## Fine-tuning"
   ]
  },
  {
   "cell_type": "code",
   "execution_count": null,
   "metadata": {},
   "outputs": [],
   "source": [
    "from CleverCopyPredictorFinetuning import CleverCopyPredictorFineTuning"
   ]
  },
  {
   "cell_type": "code",
   "execution_count": null,
   "metadata": {},
   "outputs": [],
   "source": [
    "CC_predictor_finetune = CleverCopyPredictorFineTuning(\n",
    "    modification=\"cR\",\n",
    "    train_path='example/input_files/train_HCD_R[UNIMOD:7]_50.parquet',\n",
    "    test_path='example/input_files/test_HCD_R[UNIMOD:7]_50.parquet',\n",
    "    val_path='example/input_files/val_HCD_R[UNIMOD:7]_50.parquet',\n",
    "    trainsize=500,\n",
    "    path_weights='example/cR/before/weights/cR_M[UNIMOD:35]_500_before.weights.h5',\n",
    "    save_path='example',\n",
    "    amino_acid='M[UNIMOD:35]'\n",
    ")"
   ]
  },
  {
   "cell_type": "code",
   "execution_count": null,
   "metadata": {},
   "outputs": [],
   "source": [
    "CC_predictor_finetune.train_model()"
   ]
  },
  {
   "cell_type": "code",
   "execution_count": null,
   "metadata": {},
   "outputs": [],
   "source": [
    "CC_predictor_finetune.predict_and_save_results()"
   ]
  },
  {
   "cell_type": "code",
   "execution_count": null,
   "metadata": {},
   "outputs": [],
   "source": [
    "CC_predictor_finetune.get_SA_after_ft()"
   ]
  },
  {
   "cell_type": "code",
   "execution_count": null,
   "metadata": {},
   "outputs": [],
   "source": [
    "CC_predictor_finetune.get_weights_path_after_ft()"
   ]
  },
  {
   "cell_type": "markdown",
   "metadata": {},
   "source": [
    "# Create trainsets for chaining"
   ]
  },
  {
   "cell_type": "code",
   "execution_count": null,
   "metadata": {},
   "outputs": [],
   "source": [
    "from trainsets_chaining import Trainsets_chaining"
   ]
  },
  {
   "cell_type": "code",
   "execution_count": null,
   "metadata": {},
   "outputs": [],
   "source": [
    "Trainsets_chaining(\n",
    "    chain=[\"cR\",\"fK\",\"prK\"],\n",
    "    input_path_files=\"example\",\n",
    "    save_path=\"example/chaining\",\n",
    "    trainsize=5\n",
    ")"
   ]
  },
  {
   "cell_type": "markdown",
   "metadata": {},
   "source": [
    "# Chaining"
   ]
  },
  {
   "cell_type": "code",
   "execution_count": null,
   "metadata": {},
   "outputs": [],
   "source": [
    "from chaning_PTMs import Chaining_PTMs"
   ]
  },
  {
   "cell_type": "code",
   "execution_count": null,
   "metadata": {},
   "outputs": [],
   "source": [
    "chain=[\"cR\",\"fK\",\"prK\"]"
   ]
  },
  {
   "cell_type": "code",
   "execution_count": null,
   "metadata": {},
   "outputs": [],
   "source": [
    "chaining = Chaining_PTMs(\n",
    "    chain=chain,\n",
    "    path_data='example',\n",
    "    save_path='example/chaining',\n",
    "    base_prosit_weights='base_prosit.weights.h5',\n",
    "    trainsize=5\n",
    ")"
   ]
  },
  {
   "cell_type": "code",
   "execution_count": null,
   "metadata": {},
   "outputs": [],
   "source": [
    "chaining.chaining()"
   ]
  },
  {
   "cell_type": "code",
   "execution_count": null,
   "metadata": {},
   "outputs": [],
   "source": [
    "chaining.get_results()"
   ]
  },
  {
   "cell_type": "markdown",
   "metadata": {},
   "source": [
    "# Prediction of unseen PTMs"
   ]
  },
  {
   "cell_type": "code",
   "execution_count": null,
   "metadata": {},
   "outputs": [],
   "source": [
    "from CleverCopyPredictorBeforeFinetuning import CleverCopyPredictorBeforeFineTuning"
   ]
  },
  {
   "cell_type": "code",
   "execution_count": null,
   "metadata": {},
   "outputs": [],
   "source": [
    "CC_predictor = CleverCopyPredictorBeforeFineTuning(\n",
    "    modification=\"nY\",\n",
    "    test_path='/cmnfs/home/students/c.kloppert/dlomix_hugginface/example/input_files/test_HCD_nY_max.parquet',\n",
    "    val_path='/cmnfs/home/students/c.kloppert/dlomix_hugginface/example/input_files/val_HCD_nY_max.parquet',\n",
    "    case='unseen',\n",
    "    save_output_to_file=True,\n",
    "    mods_to_add_to_alphabet=[\"cR\",\"fK\",\"prK\"],\n",
    "    path_weights='example/chaining/prK/after/weights/prK_M_5_after.weights.h5',\n",
    "    save_path='/cmnfs/home/students/c.kloppert/dlomix_hugginface/example/chaining/cR-fK-prK',\n",
    ")\n",
    "\n",
    "CC_predictor.prediction()\n",
    "CC_predictor.cleanup_weights()\n",
    "print(CC_predictor.get_AA_SA_dict())\n",
    "print(CC_predictor.get_best_AA())"
   ]
  }
 ],
 "metadata": {
  "kernelspec": {
   "display_name": "dlomix_environment",
   "language": "python",
   "name": "python3"
  },
  "language_info": {
   "codemirror_mode": {
    "name": "ipython",
    "version": 3
   },
   "file_extension": ".py",
   "mimetype": "text/x-python",
   "name": "python",
   "nbconvert_exporter": "python",
   "pygments_lexer": "ipython3",
   "version": "3.10.14"
  }
 },
 "nbformat": 4,
 "nbformat_minor": 2
}
